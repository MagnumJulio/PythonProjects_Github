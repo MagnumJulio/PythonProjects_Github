{
 "cells": [
  {
   "cell_type": "code",
   "execution_count": 67,
   "id": "9a543b64",
   "metadata": {},
   "outputs": [],
   "source": [
    "import pandas as pd"
   ]
  },
  {
   "cell_type": "code",
   "execution_count": null,
   "id": "0d21fc27",
   "metadata": {},
   "outputs": [],
   "source": [
    "#convert csv to excel\n",
    "df = pd.read_csv(\"Manual de registros das carteiras administradas - Arquivo exemplo.csv\",  delimiter='|')\n",
    "\n",
    "df.to_excel('ANBIMA_modelo_excel.xlsx', index=False)"
   ]
  },
  {
   "cell_type": "code",
   "execution_count": 73,
   "id": "3d6d77c3",
   "metadata": {},
   "outputs": [],
   "source": [
    "#convert excel to csv\n",
    "df = pd.read_excel(\"ANBIMA_modelo_excel.xlsx\")\n",
    "\n",
    "df.to_csv('ANBIMA_modelo_csv.csv', index=False)"
   ]
  },
  {
   "cell_type": "code",
   "execution_count": null,
   "id": "8ae88ac0",
   "metadata": {},
   "outputs": [],
   "source": []
  }
 ],
 "metadata": {
  "kernelspec": {
   "display_name": "Python 3 (ipykernel)",
   "language": "python",
   "name": "python3"
  },
  "language_info": {
   "codemirror_mode": {
    "name": "ipython",
    "version": 3
   },
   "file_extension": ".py",
   "mimetype": "text/x-python",
   "name": "python",
   "nbconvert_exporter": "python",
   "pygments_lexer": "ipython3",
   "version": "3.10.5"
  }
 },
 "nbformat": 4,
 "nbformat_minor": 5
}
